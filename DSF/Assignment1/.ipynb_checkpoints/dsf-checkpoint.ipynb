{
 "cells": [
  {
   "cell_type": "code",
   "execution_count": 2,
   "metadata": {},
   "outputs": [],
   "source": [
    "# All necessary imports\n",
    "import pandas as pd"
   ]
  },
  {
   "cell_type": "markdown",
   "metadata": {},
   "source": [
    "# B2.1\n",
    "`read_table` : Read general delimited file into DataFrame."
   ]
  },
  {
   "cell_type": "code",
   "execution_count": 7,
   "metadata": {},
   "outputs": [
    {
     "data": {
      "text/html": [
       "<div>\n",
       "<style scoped>\n",
       "    .dataframe tbody tr th:only-of-type {\n",
       "        vertical-align: middle;\n",
       "    }\n",
       "\n",
       "    .dataframe tbody tr th {\n",
       "        vertical-align: top;\n",
       "    }\n",
       "\n",
       "    .dataframe thead th {\n",
       "        text-align: right;\n",
       "    }\n",
       "</style>\n",
       "<table border=\"1\" class=\"dataframe\">\n",
       "  <thead>\n",
       "    <tr style=\"text-align: right;\">\n",
       "      <th></th>\n",
       "      <th>name</th>\n",
       "      <th>age</th>\n",
       "      <th>address</th>\n",
       "      <th>gender</th>\n",
       "      <th>pincode</th>\n",
       "    </tr>\n",
       "  </thead>\n",
       "  <tbody>\n",
       "    <tr>\n",
       "      <th>0</th>\n",
       "      <td>tanishq</td>\n",
       "      <td>21</td>\n",
       "      <td>bangalore</td>\n",
       "      <td>M</td>\n",
       "      <td>560010</td>\n",
       "    </tr>\n",
       "    <tr>\n",
       "      <th>1</th>\n",
       "      <td>sam</td>\n",
       "      <td>25</td>\n",
       "      <td>usa</td>\n",
       "      <td>M</td>\n",
       "      <td>100100</td>\n",
       "    </tr>\n",
       "    <tr>\n",
       "      <th>2</th>\n",
       "      <td>marry</td>\n",
       "      <td>26</td>\n",
       "      <td>london</td>\n",
       "      <td>F</td>\n",
       "      <td>200200</td>\n",
       "    </tr>\n",
       "  </tbody>\n",
       "</table>\n",
       "</div>"
      ],
      "text/plain": [
       "      name  age    address gender  pincode\n",
       "0  tanishq   21  bangalore      M   560010\n",
       "1      sam   25        usa      M   100100\n",
       "2    marry   26     london      F   200200"
      ]
     },
     "execution_count": 7,
     "metadata": {},
     "output_type": "execute_result"
    }
   ],
   "source": [
    "# use ',' as the delimiter\n",
    "# uses first row of the text file as the default header\n",
    "pd.read_table(\"comma_seperated_with_header.txt\",delimiter=\",\")"
   ]
  },
  {
   "cell_type": "code",
   "execution_count": 9,
   "metadata": {},
   "outputs": [
    {
     "data": {
      "text/html": [
       "<div>\n",
       "<style scoped>\n",
       "    .dataframe tbody tr th:only-of-type {\n",
       "        vertical-align: middle;\n",
       "    }\n",
       "\n",
       "    .dataframe tbody tr th {\n",
       "        vertical-align: top;\n",
       "    }\n",
       "\n",
       "    .dataframe thead th {\n",
       "        text-align: right;\n",
       "    }\n",
       "</style>\n",
       "<table border=\"1\" class=\"dataframe\">\n",
       "  <thead>\n",
       "    <tr style=\"text-align: right;\">\n",
       "      <th></th>\n",
       "      <th>0</th>\n",
       "      <th>1</th>\n",
       "      <th>2</th>\n",
       "      <th>3</th>\n",
       "      <th>4</th>\n",
       "    </tr>\n",
       "  </thead>\n",
       "  <tbody>\n",
       "    <tr>\n",
       "      <th>0</th>\n",
       "      <td>tanishq</td>\n",
       "      <td>21</td>\n",
       "      <td>bangalore</td>\n",
       "      <td>M</td>\n",
       "      <td>560010</td>\n",
       "    </tr>\n",
       "    <tr>\n",
       "      <th>1</th>\n",
       "      <td>sam</td>\n",
       "      <td>25</td>\n",
       "      <td>usa</td>\n",
       "      <td>M</td>\n",
       "      <td>100100</td>\n",
       "    </tr>\n",
       "    <tr>\n",
       "      <th>2</th>\n",
       "      <td>marry</td>\n",
       "      <td>26</td>\n",
       "      <td>london</td>\n",
       "      <td>F</td>\n",
       "      <td>200200</td>\n",
       "    </tr>\n",
       "  </tbody>\n",
       "</table>\n",
       "</div>"
      ],
      "text/plain": [
       "         0   1          2  3       4\n",
       "0  tanishq  21  bangalore  M  560010\n",
       "1      sam  25        usa  M  100100\n",
       "2    marry  26     london  F  200200"
      ]
     },
     "execution_count": 9,
     "metadata": {},
     "output_type": "execute_result"
    }
   ],
   "source": [
    "# use ',' as the delimiter\n",
    "# header=None uses numbering from 0-N as the header\n",
    "# we could also pass a list of integer as the header number\n",
    "pd.read_table(\"comma_seperate_without_header.txt\",delimiter=\",\",header=None)"
   ]
  },
  {
   "cell_type": "code",
   "execution_count": 11,
   "metadata": {},
   "outputs": [
    {
     "data": {
      "text/html": [
       "<div>\n",
       "<style scoped>\n",
       "    .dataframe tbody tr th:only-of-type {\n",
       "        vertical-align: middle;\n",
       "    }\n",
       "\n",
       "    .dataframe tbody tr th {\n",
       "        vertical-align: top;\n",
       "    }\n",
       "\n",
       "    .dataframe thead th {\n",
       "        text-align: right;\n",
       "    }\n",
       "</style>\n",
       "<table border=\"1\" class=\"dataframe\">\n",
       "  <thead>\n",
       "    <tr style=\"text-align: right;\">\n",
       "      <th></th>\n",
       "      <th>name</th>\n",
       "      <th>age</th>\n",
       "      <th>address</th>\n",
       "      <th>gender</th>\n",
       "      <th>pincode</th>\n",
       "    </tr>\n",
       "  </thead>\n",
       "  <tbody>\n",
       "    <tr>\n",
       "      <th>0</th>\n",
       "      <td>tanishq</td>\n",
       "      <td>21</td>\n",
       "      <td>bangalore</td>\n",
       "      <td>M</td>\n",
       "      <td>560010</td>\n",
       "    </tr>\n",
       "    <tr>\n",
       "      <th>1</th>\n",
       "      <td>sam</td>\n",
       "      <td>25</td>\n",
       "      <td>usa</td>\n",
       "      <td>M</td>\n",
       "      <td>100100</td>\n",
       "    </tr>\n",
       "    <tr>\n",
       "      <th>2</th>\n",
       "      <td>marry</td>\n",
       "      <td>26</td>\n",
       "      <td>london</td>\n",
       "      <td>F</td>\n",
       "      <td>200200</td>\n",
       "    </tr>\n",
       "  </tbody>\n",
       "</table>\n",
       "</div>"
      ],
      "text/plain": [
       "      name  age    address gender  pincode\n",
       "0  tanishq   21  bangalore      M   560010\n",
       "1      sam   25        usa      M   100100\n",
       "2    marry   26     london      F   200200"
      ]
     },
     "execution_count": 11,
     "metadata": {},
     "output_type": "execute_result"
    }
   ],
   "source": [
    "# use ',' as the delimiter\n",
    "# we pass a list of string as the header in the parameter name\n",
    "pd.read_table(\"comma_seperate_without_header.txt\",delimiter=\",\",names=[\"name\",\"age\",\"address\",\"gender\",\"pincode\"])"
   ]
  },
  {
   "cell_type": "code",
   "execution_count": 14,
   "metadata": {},
   "outputs": [
    {
     "data": {
      "text/html": [
       "<div>\n",
       "<style scoped>\n",
       "    .dataframe tbody tr th:only-of-type {\n",
       "        vertical-align: middle;\n",
       "    }\n",
       "\n",
       "    .dataframe tbody tr th {\n",
       "        vertical-align: top;\n",
       "    }\n",
       "\n",
       "    .dataframe thead th {\n",
       "        text-align: right;\n",
       "    }\n",
       "</style>\n",
       "<table border=\"1\" class=\"dataframe\">\n",
       "  <thead>\n",
       "    <tr style=\"text-align: right;\">\n",
       "      <th></th>\n",
       "      <th>name</th>\n",
       "      <th>age</th>\n",
       "      <th>address</th>\n",
       "      <th>gender</th>\n",
       "      <th>pincode</th>\n",
       "    </tr>\n",
       "  </thead>\n",
       "  <tbody>\n",
       "    <tr>\n",
       "      <th>0</th>\n",
       "      <td>tanishq</td>\n",
       "      <td>21</td>\n",
       "      <td>bangalore</td>\n",
       "      <td>M</td>\n",
       "      <td>560010</td>\n",
       "    </tr>\n",
       "    <tr>\n",
       "      <th>1</th>\n",
       "      <td>sam</td>\n",
       "      <td>25</td>\n",
       "      <td>usa</td>\n",
       "      <td>M</td>\n",
       "      <td>100100</td>\n",
       "    </tr>\n",
       "    <tr>\n",
       "      <th>2</th>\n",
       "      <td>marry</td>\n",
       "      <td>26</td>\n",
       "      <td>london</td>\n",
       "      <td>F</td>\n",
       "      <td>200200</td>\n",
       "    </tr>\n",
       "  </tbody>\n",
       "</table>\n",
       "</div>"
      ],
      "text/plain": [
       "      name  age    address gender  pincode\n",
       "0  tanishq   21  bangalore      M   560010\n",
       "1      sam   25        usa      M   100100\n",
       "2    marry   26     london      F   200200"
      ]
     },
     "execution_count": 14,
     "metadata": {},
     "output_type": "execute_result"
    }
   ],
   "source": [
    "# use ' ' as the delimiter\n",
    "# uses first row of the text file as the default header\n",
    "pd.read_table(\"space_spearated_with_header.txt\",delimiter=\" \")"
   ]
  },
  {
   "cell_type": "code",
   "execution_count": 18,
   "metadata": {},
   "outputs": [
    {
     "data": {
      "text/html": [
       "<div>\n",
       "<style scoped>\n",
       "    .dataframe tbody tr th:only-of-type {\n",
       "        vertical-align: middle;\n",
       "    }\n",
       "\n",
       "    .dataframe tbody tr th {\n",
       "        vertical-align: top;\n",
       "    }\n",
       "\n",
       "    .dataframe thead th {\n",
       "        text-align: right;\n",
       "    }\n",
       "</style>\n",
       "<table border=\"1\" class=\"dataframe\">\n",
       "  <thead>\n",
       "    <tr style=\"text-align: right;\">\n",
       "      <th></th>\n",
       "      <th>0</th>\n",
       "      <th>1</th>\n",
       "      <th>2</th>\n",
       "      <th>3</th>\n",
       "      <th>4</th>\n",
       "    </tr>\n",
       "  </thead>\n",
       "  <tbody>\n",
       "    <tr>\n",
       "      <th>0</th>\n",
       "      <td>tanishq</td>\n",
       "      <td>21</td>\n",
       "      <td>bangalore</td>\n",
       "      <td>M</td>\n",
       "      <td>560010</td>\n",
       "    </tr>\n",
       "    <tr>\n",
       "      <th>1</th>\n",
       "      <td>sam</td>\n",
       "      <td>25</td>\n",
       "      <td>usa</td>\n",
       "      <td>M</td>\n",
       "      <td>100100</td>\n",
       "    </tr>\n",
       "    <tr>\n",
       "      <th>2</th>\n",
       "      <td>marry</td>\n",
       "      <td>26</td>\n",
       "      <td>london</td>\n",
       "      <td>F</td>\n",
       "      <td>200200</td>\n",
       "    </tr>\n",
       "  </tbody>\n",
       "</table>\n",
       "</div>"
      ],
      "text/plain": [
       "         0   1          2  3       4\n",
       "0  tanishq  21  bangalore  M  560010\n",
       "1      sam  25        usa  M  100100\n",
       "2    marry  26     london  F  200200"
      ]
     },
     "execution_count": 18,
     "metadata": {},
     "output_type": "execute_result"
    }
   ],
   "source": [
    "# use ' ' as the delimiter\n",
    "# header=None uses numbering from 0-N as the header\n",
    "# we could also pass a list of integer as the header number\n",
    "pd.read_table(\"space_spearated_without_header.txt\",delimiter=\" \",header=None)"
   ]
  },
  {
   "cell_type": "code",
   "execution_count": 19,
   "metadata": {},
   "outputs": [
    {
     "data": {
      "text/html": [
       "<div>\n",
       "<style scoped>\n",
       "    .dataframe tbody tr th:only-of-type {\n",
       "        vertical-align: middle;\n",
       "    }\n",
       "\n",
       "    .dataframe tbody tr th {\n",
       "        vertical-align: top;\n",
       "    }\n",
       "\n",
       "    .dataframe thead th {\n",
       "        text-align: right;\n",
       "    }\n",
       "</style>\n",
       "<table border=\"1\" class=\"dataframe\">\n",
       "  <thead>\n",
       "    <tr style=\"text-align: right;\">\n",
       "      <th></th>\n",
       "      <th>name</th>\n",
       "      <th>age</th>\n",
       "      <th>address</th>\n",
       "      <th>gender</th>\n",
       "      <th>pincode</th>\n",
       "    </tr>\n",
       "  </thead>\n",
       "  <tbody>\n",
       "    <tr>\n",
       "      <th>0</th>\n",
       "      <td>tanishq</td>\n",
       "      <td>21</td>\n",
       "      <td>bangalore</td>\n",
       "      <td>M</td>\n",
       "      <td>560010</td>\n",
       "    </tr>\n",
       "    <tr>\n",
       "      <th>1</th>\n",
       "      <td>sam</td>\n",
       "      <td>25</td>\n",
       "      <td>usa</td>\n",
       "      <td>M</td>\n",
       "      <td>100100</td>\n",
       "    </tr>\n",
       "    <tr>\n",
       "      <th>2</th>\n",
       "      <td>marry</td>\n",
       "      <td>26</td>\n",
       "      <td>london</td>\n",
       "      <td>F</td>\n",
       "      <td>200200</td>\n",
       "    </tr>\n",
       "  </tbody>\n",
       "</table>\n",
       "</div>"
      ],
      "text/plain": [
       "      name  age    address gender  pincode\n",
       "0  tanishq   21  bangalore      M   560010\n",
       "1      sam   25        usa      M   100100\n",
       "2    marry   26     london      F   200200"
      ]
     },
     "execution_count": 19,
     "metadata": {},
     "output_type": "execute_result"
    }
   ],
   "source": [
    "# use ' ' as the delimiter\n",
    "# we pass a list of string as the header in the parameter name\n",
    "pd.read_table(\"space_spearated_without_header.txt\",delimiter=\" \",names=[\"name\",\"age\",\"address\",\"gender\",\"pincode\"])"
   ]
  },
  {
   "cell_type": "markdown",
   "metadata": {},
   "source": [
    "# B2.2 \n",
    "### sqlite and pandas"
   ]
  },
  {
   "cell_type": "markdown",
   "metadata": {},
   "source": [
    "### Using sqlite only "
   ]
  },
  {
   "cell_type": "code",
   "execution_count": 25,
   "metadata": {},
   "outputs": [],
   "source": [
    "import sqlite3\n",
    "\n",
    "# sql query to create student131 database\n",
    "query = \"\"\"\n",
    "CREATE TABLE student131\n",
    "(course VARCHAR(20), courseid VARCHAR(20),\n",
    "MarkObtained REAL, MarkExpected INTEGER\n",
    ");\"\"\"\n",
    "\n",
    "# Opens a connection to the SQLite database file \n",
    "con = sqlite3.connect(':memory:')\n",
    "\n",
    "# Executes SQL statement\n",
    "con.execute(query)\n",
    "\n",
    "# Commit the current transaction\n",
    "con.commit()"
   ]
  },
  {
   "cell_type": "code",
   "execution_count": 26,
   "metadata": {},
   "outputs": [],
   "source": [
    "# List of data to insertt into the table\n",
    "data = [('DataScience', '20CSE421A ', 49, 50),\n",
    "('Computer Vision', '20CSE422A ', 45, 50),\n",
    "('Computational Intelligence', '20CSE423A ', 47, 50)]\n",
    "\n",
    "# query insert into student131 table \n",
    "stmt = \"INSERT INTO student131 VALUES(?, ?, ?, ?)\"\n",
    "\n",
    "# Repeatedly executes a SQL statement\n",
    "con.executemany(stmt, data)\n",
    "\n",
    "# Commit the current transaction\n",
    "con.commit()"
   ]
  },
  {
   "cell_type": "code",
   "execution_count": 27,
   "metadata": {},
   "outputs": [
    {
     "data": {
      "text/html": [
       "<div>\n",
       "<style scoped>\n",
       "    .dataframe tbody tr th:only-of-type {\n",
       "        vertical-align: middle;\n",
       "    }\n",
       "\n",
       "    .dataframe tbody tr th {\n",
       "        vertical-align: top;\n",
       "    }\n",
       "\n",
       "    .dataframe thead th {\n",
       "        text-align: right;\n",
       "    }\n",
       "</style>\n",
       "<table border=\"1\" class=\"dataframe\">\n",
       "  <thead>\n",
       "    <tr style=\"text-align: right;\">\n",
       "      <th></th>\n",
       "      <th>course</th>\n",
       "      <th>courseid</th>\n",
       "      <th>MarkObtained</th>\n",
       "      <th>MarkExpected</th>\n",
       "    </tr>\n",
       "  </thead>\n",
       "  <tbody>\n",
       "    <tr>\n",
       "      <th>0</th>\n",
       "      <td>DataScience</td>\n",
       "      <td>20CSE421A</td>\n",
       "      <td>49.0</td>\n",
       "      <td>50</td>\n",
       "    </tr>\n",
       "    <tr>\n",
       "      <th>1</th>\n",
       "      <td>Computer Vision</td>\n",
       "      <td>20CSE422A</td>\n",
       "      <td>45.0</td>\n",
       "      <td>50</td>\n",
       "    </tr>\n",
       "    <tr>\n",
       "      <th>2</th>\n",
       "      <td>Computational Intelligence</td>\n",
       "      <td>20CSE423A</td>\n",
       "      <td>47.0</td>\n",
       "      <td>50</td>\n",
       "    </tr>\n",
       "  </tbody>\n",
       "</table>\n",
       "</div>"
      ],
      "text/plain": [
       "                       course    courseid  MarkObtained  MarkExpected\n",
       "0                 DataScience  20CSE421A           49.0            50\n",
       "1             Computer Vision  20CSE422A           45.0            50\n",
       "2  Computational Intelligence  20CSE423A           47.0            50"
      ]
     },
     "execution_count": 27,
     "metadata": {},
     "output_type": "execute_result"
    }
   ],
   "source": [
    "# query all the rows from the table\n",
    "cursor = con.execute('select * from student131')\n",
    "\n",
    "# Fetches all rows from the resultset\n",
    "rows = cursor.fetchall()\n",
    "\n",
    "# store the fetched data as a pandas dataframe\n",
    "pd.DataFrame(rows, columns=[x[0] for x in cursor.description])"
   ]
  },
  {
   "cell_type": "markdown",
   "metadata": {},
   "source": [
    "### using pandas instead of sqlite"
   ]
  },
  {
   "cell_type": "code",
   "execution_count": 43,
   "metadata": {},
   "outputs": [],
   "source": [
    "# Opens a connection to the SQLite database file\n",
    "conn = sqlite3.connect(':memory:')\n",
    "\n",
    "# column names and records of the table\n",
    "columns = [\"course\", \"courseid\",\"MarkObtained\", \"MarkExpected\"]\n",
    "data = [('DataScience', '20CSE421A ', 49, 50),\n",
    "('Computer Vision', '20CSE422A ', 45, 50),\n",
    "('Computational Intelligence', '20CSE423A ', 47, 50)]\n",
    "\n",
    "# create a dataframe using the data\n",
    "df = pd.DataFrame(data,columns=columns)\n",
    "\n",
    "# use pandas function to create/write to database\n",
    "# it creates a new database if it doesnt already exist\n",
    "# if it exists, we can choose to replace,append or fail\n",
    "df.to_sql(\"newstudent131\",conn,if_exists=\"replace\")"
   ]
  },
  {
   "cell_type": "code",
   "execution_count": 45,
   "metadata": {},
   "outputs": [
    {
     "data": {
      "text/html": [
       "<div>\n",
       "<style scoped>\n",
       "    .dataframe tbody tr th:only-of-type {\n",
       "        vertical-align: middle;\n",
       "    }\n",
       "\n",
       "    .dataframe tbody tr th {\n",
       "        vertical-align: top;\n",
       "    }\n",
       "\n",
       "    .dataframe thead th {\n",
       "        text-align: right;\n",
       "    }\n",
       "</style>\n",
       "<table border=\"1\" class=\"dataframe\">\n",
       "  <thead>\n",
       "    <tr style=\"text-align: right;\">\n",
       "      <th></th>\n",
       "      <th>index</th>\n",
       "      <th>course</th>\n",
       "      <th>courseid</th>\n",
       "      <th>MarkObtained</th>\n",
       "      <th>MarkExpected</th>\n",
       "    </tr>\n",
       "  </thead>\n",
       "  <tbody>\n",
       "    <tr>\n",
       "      <th>0</th>\n",
       "      <td>0</td>\n",
       "      <td>DataScience</td>\n",
       "      <td>20CSE421A</td>\n",
       "      <td>49</td>\n",
       "      <td>50</td>\n",
       "    </tr>\n",
       "    <tr>\n",
       "      <th>1</th>\n",
       "      <td>1</td>\n",
       "      <td>Computer Vision</td>\n",
       "      <td>20CSE422A</td>\n",
       "      <td>45</td>\n",
       "      <td>50</td>\n",
       "    </tr>\n",
       "    <tr>\n",
       "      <th>2</th>\n",
       "      <td>2</td>\n",
       "      <td>Computational Intelligence</td>\n",
       "      <td>20CSE423A</td>\n",
       "      <td>47</td>\n",
       "      <td>50</td>\n",
       "    </tr>\n",
       "  </tbody>\n",
       "</table>\n",
       "</div>"
      ],
      "text/plain": [
       "   index                      course    courseid  MarkObtained  MarkExpected\n",
       "0      0                 DataScience  20CSE421A             49            50\n",
       "1      1             Computer Vision  20CSE422A             45            50\n",
       "2      2  Computational Intelligence  20CSE423A             47            50"
      ]
     },
     "execution_count": 45,
     "metadata": {},
     "output_type": "execute_result"
    }
   ],
   "source": [
    "# read from sqlite using pandas function\n",
    "pd.read_sql('select * from newstudent131', conn)"
   ]
  },
  {
   "cell_type": "markdown",
   "metadata": {},
   "source": [
    "### example: storing data from file in `QB2.1` to sqlite using pandas"
   ]
  },
  {
   "cell_type": "code",
   "execution_count": 40,
   "metadata": {},
   "outputs": [],
   "source": [
    "conn =  sqlite3.connect(':memory:')\n",
    "df = pd.read_table(\"space_spearated_with_header.txt\",delimiter=\" \")\n",
    "df.to_sql(\"students\",conn,if_exists=\"replace\")"
   ]
  },
  {
   "cell_type": "code",
   "execution_count": 41,
   "metadata": {},
   "outputs": [
    {
     "data": {
      "text/html": [
       "<div>\n",
       "<style scoped>\n",
       "    .dataframe tbody tr th:only-of-type {\n",
       "        vertical-align: middle;\n",
       "    }\n",
       "\n",
       "    .dataframe tbody tr th {\n",
       "        vertical-align: top;\n",
       "    }\n",
       "\n",
       "    .dataframe thead th {\n",
       "        text-align: right;\n",
       "    }\n",
       "</style>\n",
       "<table border=\"1\" class=\"dataframe\">\n",
       "  <thead>\n",
       "    <tr style=\"text-align: right;\">\n",
       "      <th></th>\n",
       "      <th>index</th>\n",
       "      <th>name</th>\n",
       "      <th>age</th>\n",
       "      <th>address</th>\n",
       "      <th>gender</th>\n",
       "      <th>pincode</th>\n",
       "    </tr>\n",
       "  </thead>\n",
       "  <tbody>\n",
       "    <tr>\n",
       "      <th>0</th>\n",
       "      <td>0</td>\n",
       "      <td>tanishq</td>\n",
       "      <td>21</td>\n",
       "      <td>bangalore</td>\n",
       "      <td>M</td>\n",
       "      <td>560010</td>\n",
       "    </tr>\n",
       "    <tr>\n",
       "      <th>1</th>\n",
       "      <td>1</td>\n",
       "      <td>sam</td>\n",
       "      <td>25</td>\n",
       "      <td>usa</td>\n",
       "      <td>M</td>\n",
       "      <td>100100</td>\n",
       "    </tr>\n",
       "    <tr>\n",
       "      <th>2</th>\n",
       "      <td>2</td>\n",
       "      <td>marry</td>\n",
       "      <td>26</td>\n",
       "      <td>london</td>\n",
       "      <td>F</td>\n",
       "      <td>200200</td>\n",
       "    </tr>\n",
       "  </tbody>\n",
       "</table>\n",
       "</div>"
      ],
      "text/plain": [
       "   index     name  age    address gender  pincode\n",
       "0      0  tanishq   21  bangalore      M   560010\n",
       "1      1      sam   25        usa      M   100100\n",
       "2      2    marry   26     london      F   200200"
      ]
     },
     "execution_count": 41,
     "metadata": {},
     "output_type": "execute_result"
    }
   ],
   "source": [
    "pd.read_sql('select * from students', conn)"
   ]
  },
  {
   "cell_type": "code",
   "execution_count": null,
   "metadata": {},
   "outputs": [],
   "source": []
  }
 ],
 "metadata": {
  "kernelspec": {
   "display_name": "Python 3",
   "language": "python",
   "name": "python3"
  },
  "language_info": {
   "codemirror_mode": {
    "name": "ipython",
    "version": 3
   },
   "file_extension": ".py",
   "mimetype": "text/x-python",
   "name": "python",
   "nbconvert_exporter": "python",
   "pygments_lexer": "ipython3",
   "version": "3.8.8"
  }
 },
 "nbformat": 4,
 "nbformat_minor": 4
}
