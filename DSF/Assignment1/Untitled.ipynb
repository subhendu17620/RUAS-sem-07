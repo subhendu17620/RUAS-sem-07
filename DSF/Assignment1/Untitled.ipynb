{
 "cells": [
  {
   "cell_type": "markdown",
   "id": "0aa8a192",
   "metadata": {},
   "source": [
    "#### Question B2"
   ]
  },
  {
   "cell_type": "code",
   "execution_count": 2,
   "id": "251a3001",
   "metadata": {},
   "outputs": [],
   "source": [
    "# import pandas package\n",
    "import pandas as pd"
   ]
  },
  {
   "cell_type": "code",
   "execution_count": null,
   "id": "5435e16b",
   "metadata": {},
   "outputs": [],
   "source": []
  }
 ],
 "metadata": {
  "kernelspec": {
   "display_name": "Python 3",
   "language": "python",
   "name": "python3"
  },
  "language_info": {
   "codemirror_mode": {
    "name": "ipython",
    "version": 3
   },
   "file_extension": ".py",
   "mimetype": "text/x-python",
   "name": "python",
   "nbconvert_exporter": "python",
   "pygments_lexer": "ipython3",
   "version": "3.8.8"
  }
 },
 "nbformat": 4,
 "nbformat_minor": 5
}
