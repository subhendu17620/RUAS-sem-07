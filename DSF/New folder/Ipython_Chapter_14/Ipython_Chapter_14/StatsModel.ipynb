{
 "cells": [
  {
   "cell_type": "code",
   "execution_count": 3,
   "id": "d8bd3f47",
   "metadata": {},
   "outputs": [
    {
     "name": "stdout",
     "output_type": "stream",
     "text": [
      "                            OLS Regression Results                            \n",
      "==============================================================================\n",
      "Dep. Variable:                      y   R-squared:                       0.208\n",
      "Model:                            OLS   Adj. R-squared:                  0.192\n",
      "Method:                 Least Squares   F-statistic:                     12.74\n",
      "Date:                Sun, 03 Oct 2021   Prob (F-statistic):           1.22e-05\n",
      "Time:                        22:56:16   Log-Likelihood:                -18.441\n",
      "No. Observations:                 100   AIC:                             42.88\n",
      "Df Residuals:                      97   BIC:                             50.70\n",
      "Df Model:                           2                                         \n",
      "Covariance Type:            nonrobust                                         \n",
      "==============================================================================\n",
      "                 coef    std err          t      P>|t|      [0.025      0.975]\n",
      "------------------------------------------------------------------------------\n",
      "const          1.5256      0.081     18.780      0.000       1.364       1.687\n",
      "x1             0.1534      0.101      1.516      0.133      -0.048       0.354\n",
      "x2             0.4804      0.099      4.848      0.000       0.284       0.677\n",
      "==============================================================================\n",
      "Omnibus:                       23.455   Durbin-Watson:                   1.837\n",
      "Prob(Omnibus):                  0.000   Jarque-Bera (JB):                5.504\n",
      "Skew:                          -0.135   Prob(JB):                       0.0638\n",
      "Kurtosis:                       1.883   Cond. No.                         5.45\n",
      "==============================================================================\n",
      "\n",
      "Notes:\n",
      "[1] Standard Errors assume that the covariance matrix of the errors is correctly specified.\n"
     ]
    }
   ],
   "source": [
    "import numpy as np\n",
    "\n",
    "import statsmodels.api as sm\n",
    "\n",
    "# Generate artificial data (2 regressors + constant)\n",
    "nobs = 100\n",
    "\n",
    "X = np.random.random((nobs, 2))\n",
    "\n",
    "X = sm.add_constant(X)\n",
    "\n",
    "beta = [1, .1, .5]\n",
    "\n",
    "e = np.random.random(nobs)\n",
    "\n",
    "y = np.dot(X, beta) + e\n",
    "\n",
    "# Fit regression model\n",
    "results = sm.OLS(y, X).fit()\n",
    "\n",
    "# Inspect the results\n",
    "print(results.summary())\n",
    "\n",
    "\n"
   ]
  },
  {
   "cell_type": "code",
   "execution_count": null,
   "id": "2d7ae938",
   "metadata": {},
   "outputs": [],
   "source": []
  }
 ],
 "metadata": {
  "kernelspec": {
   "display_name": "Python 3",
   "language": "python",
   "name": "python3"
  },
  "language_info": {
   "codemirror_mode": {
    "name": "ipython",
    "version": 3
   },
   "file_extension": ".py",
   "mimetype": "text/x-python",
   "name": "python",
   "nbconvert_exporter": "python",
   "pygments_lexer": "ipython3",
   "version": "3.8.8"
  }
 },
 "nbformat": 4,
 "nbformat_minor": 5
}
