{
 "cells": [
  {
   "cell_type": "markdown",
   "id": "0a471443",
   "metadata": {},
   "source": [
    "## question 1"
   ]
  },
  {
   "cell_type": "code",
   "execution_count": 1,
   "id": "432da8c4",
   "metadata": {},
   "outputs": [],
   "source": [
    "import numpy as np\n",
    "import matplotlib.pyplot as plt\n",
    "import math"
   ]
  },
  {
   "cell_type": "code",
   "execution_count": 2,
   "id": "cfa6a80f",
   "metadata": {},
   "outputs": [],
   "source": [
    "def generate_population(size, x1_bounds, x2_bounds,x3_bounds):\n",
    "    population = []\n",
    "\n",
    "    for _ in range(size):\n",
    "        individual = {\n",
    "            \"x1\": np.random.uniform(*x1_bounds),\n",
    "            \"x2\": np.random.uniform(*x2_bounds),\n",
    "            \"x3\": np.random.uniform(*x3_bounds)           \n",
    "        }\n",
    "        population.append(individual)\n",
    "\n",
    "    return population"
   ]
  },
  {
   "cell_type": "code",
   "execution_count": 8,
   "id": "9859743b",
   "metadata": {},
   "outputs": [],
   "source": [
    "def objective_fn(individual):\n",
    "    x1= individual['x1']\n",
    "    x2= individual['x2']\n",
    "    x3= individual['x3']    \n",
    "    return math.sqrt(x1)+math.sqrt(x2)+math.sqrt(x3)"
   ]
  },
  {
   "cell_type": "code",
   "execution_count": 9,
   "id": "1085b6a5",
   "metadata": {},
   "outputs": [],
   "source": [
    "def choose_individual(population, minimize=False):\n",
    "    costs = np.array(list(map(objective_fn, population)))\n",
    "\n",
    "    min_cost = np.min(costs)\n",
    "    if min_cost < 0:\n",
    "        costs += -min_cost\n",
    "    \n",
    "    if minimize:\n",
    "        costs = costs.max() - costs\n",
    "    \n",
    "    costs_sum = np.sum(costs)\n",
    "    return np.random.choice(population, 1, p=[c/costs_sum for c in costs])[0]\n",
    "\n",
    "def cross_over(a, b,c):\n",
    "    return {\n",
    "        \"x1\": np.mean([a['x1'], b['x1'],c['x1']]),\n",
    "        \"x2\": np.mean([a['x2'], b['x2'],c['x2']]),\n",
    "        \"x3\": np.mean([a['x3'], b['x3'],c['x3']]),\n",
    "    }\n",
    "\n",
    "def mutate(individual, x_bounds, y_bounds):\n",
    "    return {\n",
    "        \"x\": np.clip(individual[\"x\"] + np.random.uniform(-0.05, 0.05), x_bounds[0], x_bounds[1]),\n",
    "        \"y\": np.clip(individual[\"y\"] + np.random.uniform(-0.05, 0.05), y_bounds[0], y_bounds[1])\n",
    "    }\n",
    "\n",
    "def gen_next_pop(population, x_bounds, y_bounds):\n",
    "    gen = []\n",
    "\n",
    "    for _ in range(len(population)):\n",
    "        a = choose_individual(population, minimize=True)\n",
    "        b = choose_individual(population, minimize=True)\n",
    "\n",
    "        individual = cross_over(a, b)\n",
    "        individual = mutate(individual, x_bounds, y_bounds)\n",
    "        gen.append(individual)\n",
    "\n",
    "    return gen\n",
    "\n",
    "def plot(x_bounds, y_bounds, mins, figsize=(15, 20)):\n",
    "    fig = plt.figure(figsize=figsize)\n",
    "    ax = fig.gca(projection=\"3d\")\n",
    "\n",
    "    x = np.linspace(*x_bounds, 100)\n",
    "    y = np.linspace(*y_bounds, 100)\n",
    "    x, y = np.meshgrid(x, y)\n",
    "    z = x**2 + y**2\n",
    "\n",
    "    x1 = np.array([data['x'] for data in mins])\n",
    "    y1 = np.array([data['y'] for data in mins])\n",
    "    z1 = x1**2 + y1**2\n",
    "\n",
    "    ax.plot_surface(x, y, z, alpha=0.5, cmap=\"viridis\")\n",
    "    ax.scatter3D(x1, y1, z1, color=\"red\")"
   ]
  },
  {
   "cell_type": "code",
   "execution_count": 10,
   "id": "7de4cc58",
   "metadata": {},
   "outputs": [
    {
     "ename": "TypeError",
     "evalue": "generate_population() missing 1 required positional argument: 'x3_bounds'",
     "output_type": "error",
     "traceback": [
      "\u001b[1;31m---------------------------------------------------------------------------\u001b[0m",
      "\u001b[1;31mTypeError\u001b[0m                                 Traceback (most recent call last)",
      "\u001b[1;32m<ipython-input-10-c5cf1168bcf7>\u001b[0m in \u001b[0;36m<module>\u001b[1;34m\u001b[0m\n\u001b[0;32m      2\u001b[0m \u001b[0my_bounds\u001b[0m \u001b[1;33m=\u001b[0m \u001b[1;33m[\u001b[0m\u001b[1;33m-\u001b[0m\u001b[1;36m4\u001b[0m\u001b[1;33m,\u001b[0m \u001b[1;36m4\u001b[0m\u001b[1;33m]\u001b[0m\u001b[1;33m\u001b[0m\u001b[1;33m\u001b[0m\u001b[0m\n\u001b[0;32m      3\u001b[0m \u001b[0mgens\u001b[0m \u001b[1;33m=\u001b[0m \u001b[1;36m100\u001b[0m\u001b[1;33m\u001b[0m\u001b[1;33m\u001b[0m\u001b[0m\n\u001b[1;32m----> 4\u001b[1;33m \u001b[0mpopulation\u001b[0m \u001b[1;33m=\u001b[0m \u001b[0mgenerate_population\u001b[0m\u001b[1;33m(\u001b[0m\u001b[1;36m30\u001b[0m\u001b[1;33m,\u001b[0m \u001b[0mx_bounds\u001b[0m\u001b[1;33m,\u001b[0m \u001b[0my_bounds\u001b[0m\u001b[1;33m)\u001b[0m\u001b[1;33m\u001b[0m\u001b[1;33m\u001b[0m\u001b[0m\n\u001b[0m\u001b[0;32m      5\u001b[0m \u001b[0mmins\u001b[0m \u001b[1;33m=\u001b[0m \u001b[1;33m[\u001b[0m\u001b[1;33m]\u001b[0m\u001b[1;33m\u001b[0m\u001b[1;33m\u001b[0m\u001b[0m\n\u001b[0;32m      6\u001b[0m \u001b[1;33m\u001b[0m\u001b[0m\n",
      "\u001b[1;31mTypeError\u001b[0m: generate_population() missing 1 required positional argument: 'x3_bounds'"
     ]
    }
   ],
   "source": [
    "x_bounds = [-4, 4]\n",
    "y_bounds = [-4, 4]\n",
    "gens = 100\n",
    "population = generate_population(30, x_bounds, y_bounds)\n",
    "mins = []\n",
    "\n",
    "for i in range(gens):\n",
    "    print(f\"🧬 generation {i}\")\n",
    "\n",
    "    population = gen_next_pop(population, x_bounds, y_bounds)\n",
    "\n",
    "    costs = np.array([objective_fn(individual) for individual in population])\n",
    "    best_idx = np.argmin(costs)\n",
    "    mins.append(population[best_idx])\n",
    "    \n",
    "    for individual in population:\n",
    "        print(individual, objective_fn(individual))\n",
    "\n",
    "print(f\"\\nbest: {population[best_idx]}: {costs[best_idx]}\")"
   ]
  },
  {
   "cell_type": "code",
   "execution_count": null,
   "id": "5505a206",
   "metadata": {},
   "outputs": [],
   "source": []
  },
  {
   "cell_type": "code",
   "execution_count": null,
   "id": "a3861635",
   "metadata": {},
   "outputs": [],
   "source": []
  },
  {
   "cell_type": "code",
   "execution_count": null,
   "id": "180a2d25",
   "metadata": {},
   "outputs": [],
   "source": []
  },
  {
   "cell_type": "code",
   "execution_count": null,
   "id": "6b6e9d3c",
   "metadata": {},
   "outputs": [],
   "source": []
  },
  {
   "cell_type": "code",
   "execution_count": 22,
   "id": "098b4d24",
   "metadata": {},
   "outputs": [],
   "source": [
    "\n",
    "import numpy as np\n",
    "\n",
    "# Particle Swarm Optimization\n",
    "def PSO(problem, MaxIter = 100, PopSize = 100, c1 = 1.4962, c2 = 1.4962, w = 0.7298, wdamp = 1.0):\n",
    "\n",
    "    # Empty Particle Template\n",
    "    empty_particle = {\n",
    "        'position': None, \n",
    "        'velocity': None, \n",
    "        'cost': None, \n",
    "        'best_position': None, \n",
    "        'best_cost': None, \n",
    "    }\n",
    "\n",
    "    # Extract Problem Info\n",
    "    CostFunction = problem['CostFunction']\n",
    "    VarMin = problem['VarMin']\n",
    "    VarMax = problem['VarMax']\n",
    "    nVar = problem['nVar']\n",
    "\n",
    "    # Initialize Global Best\n",
    "    gbest = {'position': None, 'cost': np.inf}\n",
    "\n",
    "    # Create Initial Population\n",
    "    pop = []\n",
    "    for i in range(0, PopSize):\n",
    "        pop.append(empty_particle.copy())\n",
    "        pop[i]['position'] = np.random.uniform(VarMin, VarMax, nVar)\n",
    "        pop[i]['velocity'] = np.zeros(nVar)\n",
    "        pop[i]['cost'] = CostFunction(pop[i]['position'])\n",
    "        pop[i]['best_position'] = pop[i]['position'].copy()\n",
    "        pop[i]['best_cost'] = pop[i]['cost']\n",
    "        \n",
    "        if pop[i]['best_cost'] < gbest['cost']:\n",
    "            gbest['position'] = pop[i]['best_position'].copy()\n",
    "            gbest['cost'] = pop[i]['best_cost']\n",
    "    \n",
    "    # PSO Loop\n",
    "    for it in range(0, MaxIter):\n",
    "        for i in range(0, PopSize):\n",
    "            \n",
    "            pop[i]['velocity'] = w*pop[i]['velocity'] \\\n",
    "                + c1*np.random.rand(nVar)*(pop[i]['best_position'] - pop[i]['position']) \\\n",
    "                + c2*np.random.rand(nVar)*(gbest['position'] - pop[i]['position'])\n",
    "\n",
    "            pop[i]['position'] += pop[i]['velocity']\n",
    "            pop[i]['position'] = np.maximum(pop[i]['position'], VarMin)\n",
    "            pop[i]['position'] = np.minimum(pop[i]['position'], VarMax)\n",
    "\n",
    "            pop[i]['cost'] = CostFunction(pop[i]['position'])\n",
    "            \n",
    "            if pop[i]['cost'] < pop[i]['best_cost']:\n",
    "                pop[i]['best_position'] = pop[i]['position'].copy()\n",
    "                pop[i]['best_cost'] = pop[i]['cost']\n",
    "\n",
    "                if pop[i]['best_cost'] < gbest['cost']:\n",
    "                    gbest['position'] = pop[i]['best_position'].copy()\n",
    "                    gbest['cost'] = pop[i]['best_cost']\n",
    "\n",
    "        w *= wdamp\n",
    "        print('Iteration {}: Best Cost = {}'.format(it, gbest['cost']))\n",
    "\n",
    "    return gbest, pop\n"
   ]
  },
  {
   "cell_type": "code",
   "execution_count": 24,
   "id": "01861417",
   "metadata": {},
   "outputs": [
    {
     "name": "stdout",
     "output_type": "stream",
     "text": [
      "Running PSO ...\n"
     ]
    },
    {
     "ename": "ValueError",
     "evalue": "The truth value of an array with more than one element is ambiguous. Use a.any() or a.all()",
     "output_type": "error",
     "traceback": [
      "\u001b[1;31m---------------------------------------------------------------------------\u001b[0m",
      "\u001b[1;31mValueError\u001b[0m                                Traceback (most recent call last)",
      "\u001b[1;32m<ipython-input-24-caf4f493b703>\u001b[0m in \u001b[0;36m<module>\u001b[1;34m\u001b[0m\n\u001b[0;32m     13\u001b[0m \u001b[1;31m# Running PSO\u001b[0m\u001b[1;33m\u001b[0m\u001b[1;33m\u001b[0m\u001b[1;33m\u001b[0m\u001b[0m\n\u001b[0;32m     14\u001b[0m \u001b[0mprint\u001b[0m\u001b[1;33m(\u001b[0m\u001b[1;34m'Running PSO ...'\u001b[0m\u001b[1;33m)\u001b[0m\u001b[1;33m\u001b[0m\u001b[1;33m\u001b[0m\u001b[0m\n\u001b[1;32m---> 15\u001b[1;33m \u001b[0mgbest\u001b[0m\u001b[1;33m,\u001b[0m \u001b[0mpop\u001b[0m \u001b[1;33m=\u001b[0m \u001b[0mPSO\u001b[0m\u001b[1;33m(\u001b[0m\u001b[0mproblem\u001b[0m\u001b[1;33m,\u001b[0m \u001b[0mMaxIter\u001b[0m \u001b[1;33m=\u001b[0m \u001b[1;36m200\u001b[0m\u001b[1;33m,\u001b[0m \u001b[0mPopSize\u001b[0m \u001b[1;33m=\u001b[0m \u001b[1;36m50\u001b[0m\u001b[1;33m,\u001b[0m \u001b[0mc1\u001b[0m \u001b[1;33m=\u001b[0m \u001b[1;36m1.5\u001b[0m\u001b[1;33m,\u001b[0m \u001b[0mc2\u001b[0m \u001b[1;33m=\u001b[0m \u001b[1;36m2\u001b[0m\u001b[1;33m,\u001b[0m \u001b[0mw\u001b[0m \u001b[1;33m=\u001b[0m \u001b[1;36m1\u001b[0m\u001b[1;33m,\u001b[0m \u001b[0mwdamp\u001b[0m \u001b[1;33m=\u001b[0m \u001b[1;36m0.995\u001b[0m\u001b[1;33m)\u001b[0m\u001b[1;33m\u001b[0m\u001b[1;33m\u001b[0m\u001b[0m\n\u001b[0m\u001b[0;32m     16\u001b[0m \u001b[1;33m\u001b[0m\u001b[0m\n\u001b[0;32m     17\u001b[0m \u001b[1;31m# Final Result\u001b[0m\u001b[1;33m\u001b[0m\u001b[1;33m\u001b[0m\u001b[1;33m\u001b[0m\u001b[0m\n",
      "\u001b[1;32m<ipython-input-22-48b1e9b1dff9>\u001b[0m in \u001b[0;36mPSO\u001b[1;34m(problem, MaxIter, PopSize, c1, c2, w, wdamp)\u001b[0m\n\u001b[0;32m     32\u001b[0m         \u001b[0mpop\u001b[0m\u001b[1;33m[\u001b[0m\u001b[0mi\u001b[0m\u001b[1;33m]\u001b[0m\u001b[1;33m[\u001b[0m\u001b[1;34m'best_cost'\u001b[0m\u001b[1;33m]\u001b[0m \u001b[1;33m=\u001b[0m \u001b[0mpop\u001b[0m\u001b[1;33m[\u001b[0m\u001b[0mi\u001b[0m\u001b[1;33m]\u001b[0m\u001b[1;33m[\u001b[0m\u001b[1;34m'cost'\u001b[0m\u001b[1;33m]\u001b[0m\u001b[1;33m\u001b[0m\u001b[1;33m\u001b[0m\u001b[0m\n\u001b[0;32m     33\u001b[0m \u001b[1;33m\u001b[0m\u001b[0m\n\u001b[1;32m---> 34\u001b[1;33m         \u001b[1;32mif\u001b[0m \u001b[0mpop\u001b[0m\u001b[1;33m[\u001b[0m\u001b[0mi\u001b[0m\u001b[1;33m]\u001b[0m\u001b[1;33m[\u001b[0m\u001b[1;34m'best_cost'\u001b[0m\u001b[1;33m]\u001b[0m \u001b[1;33m<\u001b[0m \u001b[0mgbest\u001b[0m\u001b[1;33m[\u001b[0m\u001b[1;34m'cost'\u001b[0m\u001b[1;33m]\u001b[0m\u001b[1;33m:\u001b[0m\u001b[1;33m\u001b[0m\u001b[1;33m\u001b[0m\u001b[0m\n\u001b[0m\u001b[0;32m     35\u001b[0m             \u001b[0mgbest\u001b[0m\u001b[1;33m[\u001b[0m\u001b[1;34m'position'\u001b[0m\u001b[1;33m]\u001b[0m \u001b[1;33m=\u001b[0m \u001b[0mpop\u001b[0m\u001b[1;33m[\u001b[0m\u001b[0mi\u001b[0m\u001b[1;33m]\u001b[0m\u001b[1;33m[\u001b[0m\u001b[1;34m'best_position'\u001b[0m\u001b[1;33m]\u001b[0m\u001b[1;33m.\u001b[0m\u001b[0mcopy\u001b[0m\u001b[1;33m(\u001b[0m\u001b[1;33m)\u001b[0m\u001b[1;33m\u001b[0m\u001b[1;33m\u001b[0m\u001b[0m\n\u001b[0;32m     36\u001b[0m             \u001b[0mgbest\u001b[0m\u001b[1;33m[\u001b[0m\u001b[1;34m'cost'\u001b[0m\u001b[1;33m]\u001b[0m \u001b[1;33m=\u001b[0m \u001b[0mpop\u001b[0m\u001b[1;33m[\u001b[0m\u001b[0mi\u001b[0m\u001b[1;33m]\u001b[0m\u001b[1;33m[\u001b[0m\u001b[1;34m'best_cost'\u001b[0m\u001b[1;33m]\u001b[0m\u001b[1;33m\u001b[0m\u001b[1;33m\u001b[0m\u001b[0m\n",
      "\u001b[1;31mValueError\u001b[0m: The truth value of an array with more than one element is ambiguous. Use a.any() or a.all()"
     ]
    }
   ],
   "source": [
    "\n",
    "# A Sample Cost Function\n",
    "def Sphere(x):\n",
    "    return 400/x + 2*np.pi*(x**2)\n",
    "\n",
    "# Define Optimization Problem\n",
    "problem = {\n",
    "        'CostFunction': Sphere, \n",
    "        'nVar': 10, \n",
    "        'VarMin': 0,   \n",
    "        'VarMax': 5,  \n",
    "    }\n",
    "\n",
    "# Running PSO\n",
    "print('Running PSO ...')\n",
    "gbest, pop = PSO(problem, MaxIter = 200, PopSize = 50, c1 = 1.5, c2 = 2, w = 1, wdamp = 0.995)\n",
    "\n",
    "# Final Result\n",
    "print('Global Best:')\n",
    "print(gbest)\n",
    "print()\n"
   ]
  },
  {
   "cell_type": "code",
   "execution_count": null,
   "id": "4e67e57e",
   "metadata": {},
   "outputs": [],
   "source": []
  },
  {
   "cell_type": "code",
   "execution_count": null,
   "id": "d43ee1fb",
   "metadata": {},
   "outputs": [],
   "source": []
  }
 ],
 "metadata": {
  "kernelspec": {
   "display_name": "Python 3",
   "language": "python",
   "name": "python3"
  },
  "language_info": {
   "codemirror_mode": {
    "name": "ipython",
    "version": 3
   },
   "file_extension": ".py",
   "mimetype": "text/x-python",
   "name": "python",
   "nbconvert_exporter": "python",
   "pygments_lexer": "ipython3",
   "version": "3.8.8"
  }
 },
 "nbformat": 4,
 "nbformat_minor": 5
}
