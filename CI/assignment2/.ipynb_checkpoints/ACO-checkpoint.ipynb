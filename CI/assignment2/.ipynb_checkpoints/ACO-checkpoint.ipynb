{
 "cells": [
  {
   "cell_type": "code",
   "execution_count": 1,
   "metadata": {},
   "outputs": [],
   "source": [
    "import random\n",
    "import operator\n",
    "import matplotlib.pyplot as plt\n",
    "import math\n",
    "import numpy as np"
   ]
  },
  {
   "cell_type": "code",
   "execution_count": 2,
   "metadata": {},
   "outputs": [],
   "source": [
    "def create_cities(n_cities):\n",
    "    cities = []\n",
    "    points = []\n",
    "    for i in range(n_cities):\n",
    "        x = random.uniform(0, 1000)\n",
    "        y = random.uniform(0, 1000)\n",
    "        cities.append(dict(index=i+1, x=x, y=y))\n",
    "        points.append((x,y))\n",
    "    points.append(points[0])\n",
    "    return cities,points"
   ]
  },
  {
   "cell_type": "code",
   "execution_count": 3,
   "metadata": {},
   "outputs": [],
   "source": [
    "class Graph(object):\n",
    "    def __init__(self, cost_matrix: list, rank: int):\n",
    "        self.matrix = cost_matrix\n",
    "        self.rank = rank\n",
    "        self.pheromone = (1/(rank*rank)) * np.ones((rank,rank))"
   ]
  },
  {
   "cell_type": "code",
   "execution_count": 4,
   "metadata": {},
   "outputs": [],
   "source": [
    "def distance(city1: dict, city2: dict):\n",
    "    return math.sqrt((city1['x'] - city2['x']) ** 2 + (city1['y'] - city2['y']) ** 2)"
   ]
  },
  {
   "cell_type": "code",
   "execution_count": 5,
   "metadata": {},
   "outputs": [],
   "source": [
    "def plot_cities(points, path: list,showPath = True):\n",
    "    x = []\n",
    "    y = []\n",
    "    for point in points:\n",
    "        x.append(point[0])\n",
    "        y.append(point[1])\n",
    "    y = list(map(operator.sub, [max(y) for i in range(len(points))], y))\n",
    "    plt.plot(x, y, 'co')\n",
    "    if showPath:\n",
    "        for _ in range(1, len(path)):\n",
    "            i = path[_ - 1]\n",
    "            j = path[_]\n",
    "            plt.arrow(x[i], y[i], x[j] - x[i], y[j] - y[i], color='r', length_includes_head=True)\n",
    "            plt.text(x[i]+1,y[i]+1,f\"{i+1}\")\n",
    "            \n",
    "    plt.xlim(0, max(x) * 1.1)\n",
    "    plt.ylim(0, max(y) * 1.1)\n",
    "    plt.show()"
   ]
  },
  {
   "cell_type": "code",
   "execution_count": 6,
   "metadata": {},
   "outputs": [],
   "source": [
    "class ACO(object):\n",
    "    def __init__(self, ant_count: int, generations: int, alpha: float, beta: float, rho: float, q: int,\n",
    "                 strategy: int):\n",
    "        self.Q = q\n",
    "        self.rho = rho\n",
    "        self.beta = beta\n",
    "        self.alpha = alpha\n",
    "        self.ant_count = ant_count\n",
    "        self.generations = generations\n",
    "        self.update_strategy = strategy\n",
    "\n",
    "    def _update_pheromone(self, graph: Graph, ants: list):\n",
    "        for i, row in enumerate(graph.pheromone):\n",
    "            for j, col in enumerate(row):\n",
    "                graph.pheromone[i][j] *= self.rho\n",
    "                for ant in ants:\n",
    "                    graph.pheromone[i][j] += ant.pheromone_delta[i][j]\n",
    "\n",
    "\n",
    "    def solve(self, graph: Graph):\n",
    "        \"\"\"\n",
    "        :param graph:\n",
    "        \"\"\"\n",
    "        best_cost = float('inf')\n",
    "        best_solution = []\n",
    "        best_each_generation = []\n",
    "        for gen in range(self.generations):\n",
    "            ants = [_Ant(self, graph) for i in range(self.ant_count)]\n",
    "            for ant in ants:\n",
    "                for i in range(graph.rank - 1):\n",
    "                    ant._select_next()\n",
    "                ant.total_cost += graph.matrix[ant.tabu[-1]][ant.tabu[0]]\n",
    "                if ant.total_cost < best_cost:\n",
    "                    best_cost = ant.total_cost\n",
    "                    best_solution = [] + ant.tabu\n",
    "                # update pheromone\n",
    "                ant._update_pheromone_delta()\n",
    "            self._update_pheromone(graph, ants)\n",
    "            best_each_generation.append(best_cost)\n",
    "            # print('generation #{}, best cost: {}, path: {}'.format(gen, best_cost, best_solution))\n",
    "        best_solution.append(best_solution[0])\n",
    "        return best_solution, best_cost,best_each_generation"
   ]
  },
  {
   "cell_type": "code",
   "execution_count": 7,
   "metadata": {},
   "outputs": [],
   "source": [
    "class _Ant(object):\n",
    "    def __init__(self, aco: ACO, graph: Graph):\n",
    "        self.colony = aco\n",
    "        self.graph = graph\n",
    "        self.total_cost = 0.0\n",
    "        self.tabu = []\n",
    "        self.pheromone_delta = []  \n",
    "        self.allowed = [i for i in range(graph.rank)] \n",
    "        self.eta = [[0 if i == j else 1 / graph.matrix[i][j] for j in range(graph.rank)] for i in\n",
    "                    range(graph.rank)]  \n",
    "        start = random.randint(0, graph.rank - 1)\n",
    "        self.tabu.append(start)\n",
    "        self.current = start\n",
    "        self.allowed.remove(start)\n",
    "\n",
    "    def _select_next(self):\n",
    "        denominator = 0\n",
    "        for i in self.allowed:\n",
    "            denominator += self.graph.pheromone[self.current][i] ** self.colony.alpha * self.eta[self.current][ i] ** self.colony.beta\n",
    "                \n",
    "        # probabilities for moving to a node in the next step\n",
    "        probabilities = np.zeros(self.graph.rank)\n",
    "        for i in range(self.graph.rank):\n",
    "            try:\n",
    "                # test if allowed list contains i\n",
    "                self.allowed.index(i)\n",
    "                probabilities[i] = self.graph.pheromone[self.current][i] ** self.colony.alpha * \\\n",
    "                    self.eta[self.current][i] ** self.colony.beta / denominator\n",
    "            except ValueError:\n",
    "                pass\n",
    "        \n",
    "        # select next node by probability roulette\n",
    "        selected = 0\n",
    "        rand = random.random()\n",
    "        for i, probability in enumerate(probabilities):\n",
    "            rand -= probability\n",
    "            if rand <= 0:\n",
    "                selected = i\n",
    "                break\n",
    "        self.allowed.remove(selected)\n",
    "        self.tabu.append(selected)\n",
    "        self.total_cost += self.graph.matrix[self.current][selected]\n",
    "        self.current = selected\n",
    "        \n",
    "    def _update_pheromone_delta(self):\n",
    "        self.pheromone_delta = np.zeros((self.graph.rank,self.graph.rank))\n",
    "        t = np.array(self.tabu)\n",
    "        i = t[:-1]\n",
    "        j = t[1:]\n",
    "        if self.colony.update_strategy == 1:  # ant-quality system\n",
    "            self.pheromone_delta[i,j] = self.colony.Q\n",
    "        elif self.colony.update_strategy == 2:  # ant-density system\n",
    "            self.pheromone_delta[i,j] = self.colony.Q / self.graph.matrix[i][j]\n",
    "        else:  # ant-cycle system\n",
    "            self.pheromone_delta[i,j] = self.colony.Q / self.total_cost"
   ]
  },
  {
   "cell_type": "code",
   "execution_count": 8,
   "metadata": {},
   "outputs": [
    {
     "ename": "NameError",
     "evalue": "name 'create_cities' is not defined",
     "output_type": "error",
     "traceback": [
      "\u001b[1;31m---------------------------------------------------------------------------\u001b[0m",
      "\u001b[1;31mNameError\u001b[0m                                 Traceback (most recent call last)",
      "\u001b[1;32m<ipython-input-8-19a2252a9b2d>\u001b[0m in \u001b[0;36m<module>\u001b[1;34m\u001b[0m\n\u001b[0;32m     18\u001b[0m     \u001b[0mplot_cities\u001b[0m\u001b[1;33m(\u001b[0m\u001b[0mpoints\u001b[0m\u001b[1;33m,\u001b[0m \u001b[0mpath\u001b[0m\u001b[1;33m)\u001b[0m\u001b[1;33m\u001b[0m\u001b[1;33m\u001b[0m\u001b[0m\n\u001b[0;32m     19\u001b[0m     \u001b[0mplt\u001b[0m\u001b[1;33m.\u001b[0m\u001b[0mplot\u001b[0m\u001b[1;33m(\u001b[0m\u001b[0mbest_each_generation\u001b[0m\u001b[1;33m)\u001b[0m\u001b[1;33m\u001b[0m\u001b[1;33m\u001b[0m\u001b[0m\n\u001b[1;32m---> 20\u001b[1;33m \u001b[0mmain\u001b[0m\u001b[1;33m(\u001b[0m\u001b[1;33m)\u001b[0m\u001b[1;33m\u001b[0m\u001b[1;33m\u001b[0m\u001b[0m\n\u001b[0m",
      "\u001b[1;32m<ipython-input-8-19a2252a9b2d>\u001b[0m in \u001b[0;36mmain\u001b[1;34m()\u001b[0m\n\u001b[0;32m      1\u001b[0m \u001b[1;32mdef\u001b[0m \u001b[0mmain\u001b[0m\u001b[1;33m(\u001b[0m\u001b[1;33m)\u001b[0m\u001b[1;33m:\u001b[0m\u001b[1;33m\u001b[0m\u001b[1;33m\u001b[0m\u001b[0m\n\u001b[0;32m      2\u001b[0m \u001b[1;33m\u001b[0m\u001b[0m\n\u001b[1;32m----> 3\u001b[1;33m     \u001b[0mcities\u001b[0m\u001b[1;33m,\u001b[0m\u001b[0mpoints\u001b[0m \u001b[1;33m=\u001b[0m \u001b[0mcreate_cities\u001b[0m\u001b[1;33m(\u001b[0m\u001b[1;36m40\u001b[0m\u001b[1;33m)\u001b[0m\u001b[1;33m\u001b[0m\u001b[1;33m\u001b[0m\u001b[0m\n\u001b[0m\u001b[0;32m      4\u001b[0m     \u001b[0mplot_cities\u001b[0m\u001b[1;33m(\u001b[0m\u001b[0mpoints\u001b[0m\u001b[1;33m,\u001b[0m\u001b[1;33m[\u001b[0m\u001b[1;33m]\u001b[0m\u001b[1;33m,\u001b[0m\u001b[1;32mFalse\u001b[0m\u001b[1;33m)\u001b[0m\u001b[1;33m\u001b[0m\u001b[1;33m\u001b[0m\u001b[0m\n\u001b[0;32m      5\u001b[0m     \u001b[0mcost_matrix\u001b[0m \u001b[1;33m=\u001b[0m \u001b[1;33m[\u001b[0m\u001b[1;33m]\u001b[0m\u001b[1;33m\u001b[0m\u001b[1;33m\u001b[0m\u001b[0m\n",
      "\u001b[1;31mNameError\u001b[0m: name 'create_cities' is not defined"
     ]
    }
   ],
   "source": [
    "def main():\n",
    "    \n",
    "    cities,points = create_cities(40)\n",
    "    plot_cities(points,[],False)\n",
    "    cost_matrix = []\n",
    "    rank = len(cities)\n",
    "    \n",
    "    for i in range(rank):\n",
    "        row = []\n",
    "        for j in range(rank):\n",
    "            row.append(distance(cities[i], cities[j]))\n",
    "        cost_matrix.append(row)\n",
    "    \n",
    "    aco = ACO(10, 100, 1.0, 10.0, 0.5, 10, 1)\n",
    "    graph = Graph(cost_matrix, rank)\n",
    "    path, cost,best_each_generation = aco.solve(graph)\n",
    "    print('cost: {}, path: {}'.format(cost, path))\n",
    "    plot_cities(points, path)\n",
    "    plt.plot(best_each_generation)\n",
    "main()"
   ]
  },
  {
   "cell_type": "code",
   "execution_count": null,
   "metadata": {},
   "outputs": [],
   "source": []
  },
  {
   "cell_type": "code",
   "execution_count": null,
   "metadata": {},
   "outputs": [],
   "source": []
  },
  {
   "cell_type": "code",
   "execution_count": null,
   "metadata": {},
   "outputs": [],
   "source": []
  }
 ],
 "metadata": {
  "kernelspec": {
   "display_name": "Python 3",
   "language": "python",
   "name": "python3"
  },
  "language_info": {
   "codemirror_mode": {
    "name": "ipython",
    "version": 3
   },
   "file_extension": ".py",
   "mimetype": "text/x-python",
   "name": "python",
   "nbconvert_exporter": "python",
   "pygments_lexer": "ipython3",
   "version": "3.8.8"
  }
 },
 "nbformat": 4,
 "nbformat_minor": 4
}
